{
 "cells": [
  {
   "cell_type": "code",
   "execution_count": 7,
   "metadata": {},
   "outputs": [],
   "source": [
    "#*********************#answer for case study 2*************88\n",
    "\n",
    "\n",
    "\n",
    "\n",
    "avg_card_bal=1000\n",
    "interest_rate=0.15   #per card APR=annual  percentage rate\n",
    "membership_fee=20   #per card\n",
    "loss_rate=0.03\n",
    "operating_cost=25    #per card\n",
    "affiliation_fee=10   #per card\n",
    "cost_of_funds=0.065\n",
    "credit_free_period = 15"
   ]
  },
  {
   "cell_type": "code",
   "execution_count": null,
   "metadata": {},
   "outputs": [],
   "source": [
    "#case study 1 answer in last"
   ]
  },
  {
   "cell_type": "code",
   "execution_count": 1,
   "metadata": {},
   "outputs": [],
   "source": [
    "daily_periodic_rate=0.15/365"
   ]
  },
  {
   "cell_type": "code",
   "execution_count": 4,
   "metadata": {},
   "outputs": [
    {
     "data": {
      "text/plain": [
       "12.32876712328767"
      ]
     },
     "execution_count": 4,
     "metadata": {},
     "output_type": "execute_result"
    }
   ],
   "source": [
    "1000*daily_periodic_rate*30#for a month interest simple int."
   ]
  },
  {
   "cell_type": "code",
   "execution_count": 48,
   "metadata": {},
   "outputs": [
    {
     "name": "stdout",
     "output_type": "stream",
     "text": [
      "1000000\n"
     ]
    }
   ],
   "source": [
    "total_amount_from_bank =1000*1000\n",
    "print(total_amount_from_bank)"
   ]
  },
  {
   "cell_type": "code",
   "execution_count": 26,
   "metadata": {},
   "outputs": [
    {
     "name": "stdout",
     "output_type": "stream",
     "text": [
      "0.000410958904109589\n"
     ]
    }
   ],
   "source": [
    "print(daily_periodic_rate)"
   ]
  },
  {
   "cell_type": "code",
   "execution_count": 27,
   "metadata": {},
   "outputs": [],
   "source": [
    "def average_daily_balance(unpaid_bal,num_of_billing_days):\n",
    "    a_d_b=unpaid_bal/num_of_billing_days\n",
    "    return a_d_b\n",
    "    \n",
    "def average_daily_interest(average_daily_balance,daily_periodic_rate):\n",
    "    a_d_i=daily_periodic_rate*average_daily_balance\n",
    "    return a_d_i"
   ]
  },
  {
   "cell_type": "code",
   "execution_count": 28,
   "metadata": {},
   "outputs": [],
   "source": [
    "def end_month_interest(average_daily_interest,number_of_billing_days=30):\n",
    "    month_interset=30*average_daily_interest"
   ]
  },
  {
   "cell_type": "code",
   "execution_count": 29,
   "metadata": {},
   "outputs": [],
   "source": [
    "#lets assume 500 pay credit before due-date,400 after first due 30 days,80 after second due  45 days\n",
    "#and 20 after last due 60 days.\n",
    "#let the credit taken be 1000 for all customers ,total credit =10,00,000"
   ]
  },
  {
   "cell_type": "code",
   "execution_count": 30,
   "metadata": {},
   "outputs": [
    {
     "name": "stdout",
     "output_type": "stream",
     "text": [
      "65109.58904109589\n"
     ]
    }
   ],
   "source": [
    "#then interest =profit here..SIMPLE INTEREST\n",
    "revenue=300*0 + 400*(1000*daily_periodic_rate*30) +280*(1000*daily_periodic_rate*45) +1000*(55)\n",
    "print(revenue)"
   ]
  },
  {
   "cell_type": "code",
   "execution_count": 31,
   "metadata": {},
   "outputs": [
    {
     "data": {
      "text/plain": [
       "65000.0"
      ]
     },
     "execution_count": 31,
     "metadata": {},
     "output_type": "execute_result"
    }
   ],
   "source": [
    "1000000*0.065#momneybto be paid to bank"
   ]
  },
  {
   "cell_type": "markdown",
   "metadata": {},
   "source": [
    "<b>Here in this case clearly the profit is very less but that is because i have assumed the members within 30 days=300,within 45 days=400 and so on and the rate is simple interest also the number of customers is low so i think it provides certain picture</b>"
   ]
  },
  {
   "cell_type": "code",
   "execution_count": 37,
   "metadata": {},
   "outputs": [],
   "source": [
    "#COMPOUND INTEREST\n",
    "#lets take valuating period for compoud int as 1 month\n",
    "interst_month=(1000*daily_periodic_rate*30)\n",
    "newprincipal=1000+interst_month"
   ]
  },
  {
   "cell_type": "code",
   "execution_count": 38,
   "metadata": {},
   "outputs": [],
   "source": [
    "#new_daily_periodic_rate = 0.15/365"
   ]
  },
  {
   "cell_type": "code",
   "execution_count": 39,
   "metadata": {},
   "outputs": [
    {
     "name": "stdout",
     "output_type": "stream",
     "text": [
      "65130.86883092512\n"
     ]
    }
   ],
   "source": [
    "revenue=300*0 + 400*(1000*daily_periodic_rate*30) +280*(1000*daily_periodic_rate*30) \n",
    "revenue=revenue+280*(newprincipal*daily_periodic_rate*15)+1000*(55)\n",
    "print(revenue)"
   ]
  },
  {
   "cell_type": "markdown",
   "metadata": {},
   "source": [
    "<b>here the interst earned is more than simple interst as aftre one month for the customers who pay after 45\n",
    "adys we get renewed principal amount for 45-30 =15 days</b>"
   ]
  },
  {
   "cell_type": "markdown",
   "metadata": {},
   "source": [
    "answer 1"
   ]
  },
  {
   "cell_type": "code",
   "execution_count": 43,
   "metadata": {},
   "outputs": [
    {
     "name": "stdout",
     "output_type": "stream",
     "text": [
      "0.0016741157136493934\n"
     ]
    }
   ],
   "source": [
    "profit_percent_simple=1-(65000/65109)\n",
    "print(profit_percent_simple)#for simple interest"
   ]
  },
  {
   "cell_type": "code",
   "execution_count": 44,
   "metadata": {},
   "outputs": [
    {
     "name": "stdout",
     "output_type": "stream",
     "text": [
      "0.001996007984031989\n"
     ]
    }
   ],
   "source": [
    "profit_percent_simple=1-(65000/65130)\n",
    "print(profit_percent_simple)#for simple interest"
   ]
  },
  {
   "cell_type": "code",
   "execution_count": null,
   "metadata": {},
   "outputs": [],
   "source": [
    "answer 2"
   ]
  },
  {
   "cell_type": "raw",
   "metadata": {},
   "source": [
    "#loss rate not considered in the above calculatins \n",
    "\n",
    "if the loss rate is outstanding balance default which i understand as the percent of people unable to pay the loan\n",
    "after much time then if  amount is increased from 1000 to 2000 then this loss rate is going to increase\n",
    "\n",
    "if loss rae is borrowers default on total  amunt then also this amount is going too increase \n",
    "\n",
    "according to general trend in buisness but it is subjet to market risks\n",
    "\n",
    "in fact both the cases are subject to market because even if loss rate=outstanding defaults then\n",
    "people can opt to  pay the dept soon to avoid interst \n",
    "but my thesis is that in both the definitions of loss rate  the loss rate is going to increase in case we increase \n",
    "the  principal amount"
   ]
  },
  {
   "cell_type": "code",
   "execution_count": 47,
   "metadata": {},
   "outputs": [],
   "source": [
    "answer  3"
   ]
  },
  {
   "cell_type": "raw",
   "metadata": {},
   "source": [
    "in india  a borrower with a low balance is more likely to pay off the dept if he is in SME because they often take \n",
    "many loans from differnt bank and keep at standby some loans\n",
    "on the other hand the borrower with a low balance can ipt to close the dept as son as possible"
   ]
  },
  {
   "cell_type": "code",
   "execution_count": null,
   "metadata": {},
   "outputs": [],
   "source": [
    "answer 4"
   ]
  },
  {
   "cell_type": "raw",
   "metadata": {},
   "source": [
    "affiliated group gave 20 per card so total 20000 RUPEES but to calculate profit we must have the investment made \n",
    "for those customers to join which i cant find out,sorry for that.."
   ]
  },
  {
   "cell_type": "code",
   "execution_count": null,
   "metadata": {},
   "outputs": [],
   "source": [
    "answer 5"
   ]
  },
  {
   "cell_type": "code",
   "execution_count": null,
   "metadata": {},
   "outputs": [],
   "source": [
    "related t question 4 no .."
   ]
  },
  {
   "cell_type": "code",
   "execution_count": null,
   "metadata": {},
   "outputs": [],
   "source": [
    "answer 6"
   ]
  },
  {
   "cell_type": "raw",
   "metadata": {},
   "source": [
    "i think company has to incur charges which are as folows \n",
    "\n",
    "memebership +afiiliation=30 rs\n",
    "operation cost=25 rs\n",
    "implies profit=5 rs for crdit free period next we get 12 rs as simple int for a month\n",
    "but the operation ost is again 25 rs for the next month, so the company will go in loss of 13 rs which ofcourse \n",
    "it can make up by applying other rates"
   ]
  },
  {
   "cell_type": "code",
   "execution_count": null,
   "metadata": {},
   "outputs": [],
   "source": [
    "answer 7"
   ]
  },
  {
   "cell_type": "markdown",
   "metadata": {},
   "source": [
    "I htink as per mycalculations the original rate is good if most of the people give money within the credit free\n",
    "period only then company can have better profits."
   ]
  },
  {
   "cell_type": "raw",
   "metadata": {},
   "source": [
    "The answers to the questions in the brochure..\n",
    "1.Detailed report on how I would approach the problem\n",
    "\n",
    " Ans. since this is a business problem, I would consider maximizing the profit in whichever ways  possible .\n",
    "I would propose ,since this app (or platform ) operates in medium to small scale industries so \n",
    "I would do the well tested methods of adding benefits to the credit and releasing certan plans for the customers.\n",
    "Like all the big corporations do on a big level like mastercard and visa etc..we can try to give benefits to\n",
    "the customers based on thetype of credit they are opting .\n",
    "But from a business perspective adding too much benefits to the credit can be risky but still risking is the rule of business,so now we focus on increasing the probability of profit.\n",
    "We do that in the following way…\n",
    "A.Try to lure promising companies into signing deals with the firm in which the companies are \n",
    "willing to  lower the price of the services for mutual benefit,then they share an amount with the \n",
    "redcarpet firm  which allows the company to provide certain benefits to the customers in the contacted companies.\n",
    "Now we step on stage 2:what should be the benefits offered\n",
    "Simple ,the benefits offered should be such that the customer thinks that he is in advantage but \n",
    "we seek to exploit his certain habits in purchase\n",
    "For example ,lets give them benefits like 50% off on a specific food delivery brand which \n",
    "is just becoming to  come in hot in the market but lets say,we give benefits whch he \n",
    "prefers but is not likely to exploit much.and the contrary the relationship of the \n",
    "redcarpet firm with the company does not end as the aforementioned benefit would \n",
    "give them certain advertisement in the markets they are likely to pursue.\n",
    "\n",
    "Note:this is just a layman’s report based on the reports that i have read on how the\n",
    "    market works but it can be improved drastically\n",
    "\n",
    "\n",
    "2.What should be the question asked??\n",
    " Ans..   1.what is the geographical location of the customer.\n",
    "            2.what are the companies that are interested in advertising and investing\n",
    "           3.what should be the threshold price and where should we be considering to stp taking further risks.\n",
    "          \n",
    "Questions to customers;\n",
    "         1.How much credit is needed.\n",
    "         2.what is the Emi  period or the return period .\n",
    "        3.what are the preferences of the customer i.e, what things are going to attract him to  buy the scheme.\n",
    "        4.does the requesting party has a credible income source.\n",
    "\n",
    "\n",
    "\n",
    "\n",
    "Some Sources:\n",
    "https://m.scirp.org/papers/88620#:~:text=The%20findings%20provide%20evidence%20that,Credit%20Decision%20for%20lending%20SMEs.\n",
    "https://economictimes.indiatimes.com/wealth/borrow/how-interest-on-credit-card-due-is-calculated/articleshow/70886651.cms?from=mdr\n",
    "\n",
    "\n",
    "\n",
    "\n",
    "\n",
    "\n",
    "\n",
    "    \n"
   ]
  },
  {
   "cell_type": "code",
   "execution_count": null,
   "metadata": {},
   "outputs": [],
   "source": []
  }
 ],
 "metadata": {
  "kernelspec": {
   "display_name": "Python 3",
   "language": "python",
   "name": "python3"
  },
  "language_info": {
   "codemirror_mode": {
    "name": "ipython",
    "version": 3
   },
   "file_extension": ".py",
   "mimetype": "text/x-python",
   "name": "python",
   "nbconvert_exporter": "python",
   "pygments_lexer": "ipython3",
   "version": "3.7.7"
  }
 },
 "nbformat": 4,
 "nbformat_minor": 4
}
